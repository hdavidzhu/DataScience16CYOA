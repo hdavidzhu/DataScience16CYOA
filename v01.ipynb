{
 "cells": [
  {
   "cell_type": "code",
   "execution_count": 24,
   "metadata": {
    "collapsed": true
   },
   "outputs": [],
   "source": [
    "# Imports\n",
    "import numpy as np\n",
    "import pandas as pd\n",
    "\n",
    "from matplotlib import pyplot as plt\n",
    "from sklearn import metrics\n",
    "from sklearn.model_selection import train_test_split"
   ]
  },
  {
   "cell_type": "code",
   "execution_count": 17,
   "metadata": {},
   "outputs": [
    {
     "name": "stdout",
     "output_type": "stream",
     "text": [
      "Train data dimensions: (156060, 4)\n",
      "Train columns: ['PhraseId' 'SentenceId' 'Phrase' 'Sentiment']\n",
      "Test data dimensions: (66292, 3)\n",
      "Test columns: ['PhraseId' 'SentenceId' 'Phrase']\n"
     ]
    }
   ],
   "source": [
    "train_df = pd.read_csv('data/train.tsv', delimiter = '\\t', encoding = 'utf-8')\n",
    "test_df = pd.read_csv('data/test.tsv', delimiter = '\\t', encoding = 'utf-8')\n",
    "\n",
    "# Get some basic info\n",
    "print(\"Train data dimensions: \" + str(train_df.shape))\n",
    "print(\"Train columns: \" + str(train_df.columns.values))\n",
    "\n",
    "print(\"Test data dimensions: \" + str(test_df.shape))\n",
    "print(\"Test columns: \" + str(test_df.columns.values))\n"
   ]
  },
  {
   "cell_type": "code",
   "execution_count": 18,
   "metadata": {},
   "outputs": [
    {
     "name": "stdout",
     "output_type": "stream",
     "text": [
      "Sample submission data dimensions: (66292, 2)\n",
      "Sample submission columns: ['PhraseId' 'Sentiment']\n"
     ]
    }
   ],
   "source": [
    "sample_submission_df = pd.read_csv('data/sampleSubmission.csv', delimiter = ',', encoding = 'utf-8')\n",
    "print(\"Sample submission data dimensions: \" + str(sample_submission_df.shape))\n",
    "print(\"Sample submission columns: \" + str(sample_submission_df.columns.values))"
   ]
  },
  {
   "cell_type": "code",
   "execution_count": 35,
   "metadata": {},
   "outputs": [
    {
     "data": {
      "image/png": "[encoded data removed]",
      "text/plain": [
       "<matplotlib.figure.Figure at 0x11cf13dd8>"
      ]
     },
     "metadata": {},
     "output_type": "display_data"
    }
   ],
   "source": [
    "# Visualize the distribution of our dataset in sentiment.\n",
    "\n",
    "train_df.hist(column = \"Sentiment\")\n",
    "plt.show()"
   ]
  },
  {
   "cell_type": "code",
   "execution_count": 19,
   "metadata": {},
   "outputs": [],
   "source": [
    "# Split our data into a train and validation set\n",
    "X_train, X_val, y_train, y_val = train_test_split(\n",
    "    train_df.drop(['Sentiment'], axis = 1), \n",
    "    train_df['Sentiment'], \n",
    "    test_size = 0.2, \n",
    "    random_state = 42)"
   ]
  },
  {
   "cell_type": "code",
   "execution_count": 20,
   "metadata": {
    "collapsed": true
   },
   "outputs": [],
   "source": [
    "# Define a super basic model that only returns neutral sentiment\n",
    "class NaiveModel():\n",
    "    def predict(self, phrases):\n",
    "        return np.full((len(phrases), 1), 2)"
   ]
  },
  {
   "cell_type": "code",
   "execution_count": 21,
   "metadata": {},
   "outputs": [
    {
     "name": "stdout",
     "output_type": "stream",
     "text": [
      "156060\n"
     ]
    }
   ],
   "source": [
    "# Use the naive model to run a predication on our cross validation dataset\n",
    "naive_model = NaiveModel()\n",
    "predictions = naive_model.predict(train_df['Phrase'])\n",
    "print(len(predictions))"
   ]
  },
  {
   "cell_type": "code",
   "execution_count": 22,
   "metadata": {},
   "outputs": [
    {
     "name": "stdout",
     "output_type": "stream",
     "text": [
      "Accuracy: 0.50994489299\n",
      "             precision    recall  f1-score   support\n",
      "\n",
      "          0       0.00      0.00      0.00      7072\n",
      "          1       0.00      0.00      0.00     27273\n",
      "          2       0.51      1.00      0.68     79582\n",
      "          3       0.00      0.00      0.00     32927\n",
      "          4       0.00      0.00      0.00      9206\n",
      "\n",
      "avg / total       0.26      0.51      0.34    156060\n",
      "\n"
     ]
    },
    {
     "name": "stderr",
     "output_type": "stream",
     "text": [
      "/Users/hdavidzhu/miniconda3/envs/ml_is/lib/python3.6/site-packages/sklearn/metrics/classification.py:1113: UndefinedMetricWarning: Precision and F-score are ill-defined and being set to 0.0 in labels with no predicted samples.\n",
      "  'precision', 'predicted', average, warn_for)\n"
     ]
    }
   ],
   "source": [
    "# With these, we now have a basic benchmark that we want to outperform\n",
    "print(\"Accuracy: \" + str(metrics.accuracy_score(train_df['Sentiment'], predictions)))\n",
    "print(metrics.classification_report(train_df['Sentiment'], predictions))"
   ]
  },
  {
   "cell_type": "markdown",
   "metadata": {},
   "source": [
    "Now that we have our baseline, let's improve upon our model to get higher accuracy."
   ]
  },
  {
   "cell_type": "code",
   "execution_count": null,
   "metadata": {
    "collapsed": true
   },
   "outputs": [],
   "source": []
  },
  {
   "cell_type": "code",
   "execution_count": null,
   "metadata": {
    "collapsed": true
   },
   "outputs": [],
   "source": []
  }
 ],
 "metadata": {
  "kernelspec": {
   "display_name": "Python 3",
   "language": "python",
   "name": "python3"
  },
  "language_info": {
   "codemirror_mode": {
    "name": "ipython",
    "version": 3
   },
   "file_extension": ".py",
   "mimetype": "text/x-python",
   "name": "python",
   "nbconvert_exporter": "python",
   "pygments_lexer": "ipython3",
   "version": "3.6.1"
  }
 },
 "nbformat": 4,
 "nbformat_minor": 2
}
